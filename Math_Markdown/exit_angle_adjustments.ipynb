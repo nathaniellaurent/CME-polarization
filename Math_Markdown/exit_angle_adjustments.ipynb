{
 "cells": [
  {
   "cell_type": "markdown",
   "metadata": {},
   "source": [
    "r = radius of CME sphere\n",
    "\n",
    "d = distance from center of sun to center of CME sphere\n",
    "\n",
    "$\\xi$ = true exit angle\n",
    "\n",
    "$\\xi'$ = observed exit angle\n",
    "\n",
    "$$\\theta = 180 - \\arcsin\\left(\\frac{\\cos \\xi}{\\ell}\\right) - \\arccos\\left(\\frac{r}{\\ell}\\right),$$\n",
    "\n",
    "$$\\ell = \\sqrt{d^2-2d\\sin(\\xi) + 1}$$\n",
    "\n",
    "\n",
    "\n",
    "$$\\text{For } \\theta \\approx 0 ,$$\n",
    "$$\\xi' \\approx \\frac{r\\theta}{r+d} + \\xi$$"
   ]
  },
  {
   "cell_type": "code",
   "execution_count": null,
   "metadata": {
    "vscode": {
     "languageId": "plaintext"
    }
   },
   "outputs": [],
   "source": []
  }
 ],
 "metadata": {
  "language_info": {
   "name": "python"
  }
 },
 "nbformat": 4,
 "nbformat_minor": 2
}
